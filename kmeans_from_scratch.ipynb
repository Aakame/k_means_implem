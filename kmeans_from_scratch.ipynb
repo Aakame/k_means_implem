{
  "nbformat": 4,
  "nbformat_minor": 0,
  "metadata": {
    "colab": {
      "provenance": []
    },
    "kernelspec": {
      "name": "python3",
      "display_name": "Python 3"
    },
    "language_info": {
      "name": "python"
    }
  },
  "cells": [
    {
      "cell_type": "code",
      "execution_count": 49,
      "metadata": {
        "id": "q0JUIuZ9DygJ"
      },
      "outputs": [],
      "source": [
        "import numpy as np\n",
        "import pandas as pd\n",
        "import matplotlib.pyplot as plt\n",
        "import random\n",
        "from numpy.ma.core import sqrt\n",
        "from sklearn.cluster import KMeans"
      ]
    },
    {
      "cell_type": "code",
      "source": [
        "# dataset example\n",
        "x_values = [2, 3, 3, 4, 6, 7, 8, 9]\n",
        "y_values = [3, 4, 6, 4, 8, 6, 6, 8]"
      ],
      "metadata": {
        "id": "MWcJh1xvEFZw"
      },
      "execution_count": 18,
      "outputs": []
    },
    {
      "cell_type": "code",
      "source": [
        "plt.scatter(x_values, y_values, color='blue')\n",
        "plt.xlabel('X')\n",
        "plt.ylabel('Y')\n",
        "plt.title('Scatter Plot of X and Y Values')\n",
        "plt.grid(True)\n",
        "plt.show()"
      ],
      "metadata": {
        "colab": {
          "base_uri": "https://localhost:8080/",
          "height": 472
        },
        "id": "-YetfQTYHRpr",
        "outputId": "b121896a-345c-4385-d581-575ea761430f"
      },
      "execution_count": 19,
      "outputs": [
        {
          "output_type": "display_data",
          "data": {
            "text/plain": [
              "<Figure size 640x480 with 1 Axes>"
            ],
            "image/png": "[encoded data removed]"
          },
          "metadata": {}
        }
      ]
    },
    {
      "cell_type": "code",
      "source": [
        "k=2"
      ],
      "metadata": {
        "id": "AxaQCZ2ZjDcF"
      },
      "execution_count": 57,
      "outputs": []
    },
    {
      "cell_type": "code",
      "source": [
        "def k_means(x_values, y_values, k):\n",
        "    cluster_means = []\n",
        "    centroids = random.sample(range(len(x_values)), k)\n",
        "\n",
        "    #data points with no cluster assigned\n",
        "    unclustered = [i for i in range(len(x_values)) if i not in centroids]\n",
        "\n",
        "    #initialize clusters\n",
        "    clusters = [[c] for c in centroids]\n",
        "\n",
        "    centroid_values = []\n",
        "    for i in range(k):\n",
        "        centroid_values.append((x_values[centroids[i]], y_values[centroids[i]]))\n",
        "\n",
        "    while centroid_values != cluster_means:\n",
        "        for d in unclustered:\n",
        "            min_dist = float('inf')\n",
        "            cent_min = -1\n",
        "\n",
        "            #calculate distances from the data point to each centroid\n",
        "            for c in range(len(centroids)):\n",
        "                dist = sqrt((x_values[d] - x_values[centroids[c]])**2 + (y_values[d] - y_values[centroids[c]])**2)\n",
        "\n",
        "                if dist < min_dist:\n",
        "                    min_dist = dist\n",
        "                    cent_min = c\n",
        "\n",
        "            #assign the data point to the closest cluster\n",
        "            clusters[cent_min].append(d)\n",
        "\n",
        "        #calculate the mean of each cluster\n",
        "        cluster_means = []\n",
        "        for cluster in clusters:\n",
        "            cluster_x = [x_values[i] for i in cluster]\n",
        "            cluster_y = [y_values[i] for i in cluster]\n",
        "            mean_x = sum(cluster_x) / len(cluster_x)\n",
        "            mean_y = sum(cluster_y) / len(cluster_y)\n",
        "            cluster_means.append((mean_x, mean_y))\n",
        "\n",
        "        centroid_values = cluster_means\n",
        "    return centroid_values\n",
        "\n",
        "\n",
        "final_centroid_values = k_means(x_values, y_values, k)\n",
        "print(\"Centroid values:\", final_centroid_values)\n"
      ],
      "metadata": {
        "colab": {
          "base_uri": "https://localhost:8080/"
        },
        "id": "PujqHuCxitKM",
        "outputId": "42b235c3-1a38-4eaf-92f9-e655f425c54f"
      },
      "execution_count": 61,
      "outputs": [
        {
          "output_type": "stream",
          "name": "stdout",
          "text": [
            "Centroid values: [(6.8, 6.4), (2.6666666666666665, 4.333333333333333)]\n"
          ]
        }
      ]
    },
    {
      "cell_type": "code",
      "source": [
        "data = np.array(list(zip(x_values, y_values)))\n",
        "kmeans = KMeans(n_clusters=k, random_state=0)\n",
        "kmeans.fit(data)\n",
        "centroids = kmeans.cluster_centers_\n",
        "print(\"Sklearn centroids:\", centroids)"
      ],
      "metadata": {
        "colab": {
          "base_uri": "https://localhost:8080/"
        },
        "id": "BIf0yltmZBXc",
        "outputId": "62379cef-cdeb-4e05-a49b-e7ab55aa4a90"
      },
      "execution_count": 53,
      "outputs": [
        {
          "output_type": "stream",
          "name": "stdout",
          "text": [
            "Sklearn centroids: [[7.5  7.  ]\n",
            " [3.   4.25]]\n"
          ]
        },
        {
          "output_type": "stream",
          "name": "stderr",
          "text": [
            "/usr/local/lib/python3.10/dist-packages/sklearn/cluster/_kmeans.py:870: FutureWarning: The default value of `n_init` will change from 10 to 'auto' in 1.4. Set the value of `n_init` explicitly to suppress the warning\n",
            "  warnings.warn(\n"
          ]
        }
      ]
    }
  ]
}